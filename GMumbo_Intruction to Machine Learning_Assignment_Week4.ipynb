{
  "nbformat": 4,
  "nbformat_minor": 0,
  "metadata": {
    "colab": {
      "provenance": [],
      "collapsed_sections": [
        "v6x0xge4ONdG"
      ],
      "toc_visible": true
    },
    "kernelspec": {
      "name": "python3",
      "display_name": "Python 3"
    },
    "language_info": {
      "name": "python"
    }
  },
  "cells": [
    {
      "cell_type": "markdown",
      "metadata": {
        "id": "bglnabNuOKbz"
      },
      "source": [
        "# Introduction to Machine Learning Project"
      ]
    },
    {
      "cell_type": "markdown",
      "metadata": {
        "id": "v6x0xge4ONdG"
      },
      "source": [
        "## Question"
      ]
    },
    {
      "cell_type": "markdown",
      "metadata": {
        "id": "V2xjq7DXOSRg"
      },
      "source": [
        "#Background\n",
        "A large Multinational has nine broad verticals across the organization. One of the problems they face is identifying the right people for promotion (only for the manager position and below) and preparing them in time.\n",
        "\n",
        "Currently the process, they are following is:\n",
        "● They first identify a set of employees based on recommendations/ past\n",
        "performance.\n",
        "● Selected employees go through the separate training and evaluation program for\n",
        "each vertical.\n",
        "● These programs are based on the required skill of each vertical. At the end of the\n",
        "program, based on various factors such as training performance, KPI completion\n",
        "(only employees with KPIs completed greater than 60% are considered) etc., the\n",
        "employee gets a promotion.\n",
        "\n",
        "# Task\n",
        "Predict whether a potential promotee at a checkpoint will be promoted or not after the evaluation process.\n",
        "\n"
      ]
    },
    {
      "cell_type": "markdown",
      "source": [
        "# 1. Data Exploration"
      ],
      "metadata": {
        "id": "cOKP3WFdmXPM"
      }
    },
    {
      "cell_type": "code",
      "metadata": {
        "id": "tuhWXSgPOH01",
        "colab": {
          "base_uri": "https://localhost:8080/",
          "height": 340
        },
        "outputId": "639506e3-997a-4c23-b162-5ea0f2c2fef7"
      },
      "source": [
        "import pandas as pd\n",
        "import numpy as np\n",
        "\n",
        "\n",
        "hr_employee_df = pd.read_csv('https://bit.ly/2ODZvLCHRDataset')\n",
        "glossary_df = pd.read_csv('https://bit.ly/2Wz3sWcGlossary')\n",
        "\n",
        "hr_employee_df.head()\n",
        "\n",
        "#important information\n",
        "#previous_year_rating, KPIs_met >80%, \n",
        "#drop all is_promoted == 1\n",
        "# df_train, df_valid = train_test_split(df,random_state=12345, test_size=0.25)\n",
        "# df_train.loc[df_train['last_price'] > 113000, 'price_class'] = 1\n",
        "# df_train.loc[df_train['last_price'] <= 113000, 'price_class'] = 0\n",
        "\n",
        "# #validate the model\n",
        "# df_valid.loc[df_valid['last_price'] > 113000, 'price_class'] = 1\n",
        "# df_valid.loc[df_valid['last_price'] <= 113000, 'price_class'] = 0\n",
        "\n",
        "# #target & feature\n",
        "# feature_train = df_train.drop(['last_price', 'price_class'], axis=1)\n",
        "# feature_valid = df_valid.drop(['last_price', 'price_class'], axis=1)\n",
        "\n",
        "# target_train = df_train['price_class']\n",
        "# target_valid = df_valid['price_class']\n",
        "\n",
        "# model = LogisticRegression(random_state=12345, solver='liblinear')\n",
        "# model.fit(feature_train, target_train)\n",
        "# model.fit(feature_valid, target_valid)\n",
        "# # print\n",
        "# print(\"Training:\", model.score(feature_train, target_train))\n",
        "# print(\"Validation:\", model.score(feature_valid, target_valid))\n",
        "\n",
        "# test the model\n"
      ],
      "execution_count": 1,
      "outputs": [
        {
          "output_type": "execute_result",
          "data": {
            "text/plain": [
              "   employee_id         department     region         education gender  \\\n",
              "0        65438  Sales & Marketing   region_7  Master's & above      f   \n",
              "1        65141         Operations  region_22        Bachelor's      m   \n",
              "2         7513  Sales & Marketing  region_19        Bachelor's      m   \n",
              "3         2542  Sales & Marketing  region_23        Bachelor's      m   \n",
              "4        48945         Technology  region_26        Bachelor's      m   \n",
              "\n",
              "  recruitment_channel  no_of_trainings  age  previous_year_rating  \\\n",
              "0            sourcing                1   35                   5.0   \n",
              "1               other                1   30                   5.0   \n",
              "2            sourcing                1   34                   3.0   \n",
              "3               other                2   39                   1.0   \n",
              "4               other                1   45                   3.0   \n",
              "\n",
              "   length_of_service  KPIs_met >80%  awards_won?  avg_training_score  \\\n",
              "0                  8              1            0                  49   \n",
              "1                  4              0            0                  60   \n",
              "2                  7              0            0                  50   \n",
              "3                 10              0            0                  50   \n",
              "4                  2              0            0                  73   \n",
              "\n",
              "   is_promoted  \n",
              "0            0  \n",
              "1            0  \n",
              "2            0  \n",
              "3            0  \n",
              "4            0  "
            ],
            "text/html": [
              "\n",
              "  <div id=\"df-5d130b76-aef5-4d35-b534-bb801998184c\">\n",
              "    <div class=\"colab-df-container\">\n",
              "      <div>\n",
              "<style scoped>\n",
              "    .dataframe tbody tr th:only-of-type {\n",
              "        vertical-align: middle;\n",
              "    }\n",
              "\n",
              "    .dataframe tbody tr th {\n",
              "        vertical-align: top;\n",
              "    }\n",
              "\n",
              "    .dataframe thead th {\n",
              "        text-align: right;\n",
              "    }\n",
              "</style>\n",
              "<table border=\"1\" class=\"dataframe\">\n",
              "  <thead>\n",
              "    <tr style=\"text-align: right;\">\n",
              "      <th></th>\n",
              "      <th>employee_id</th>\n",
              "      <th>department</th>\n",
              "      <th>region</th>\n",
              "      <th>education</th>\n",
              "      <th>gender</th>\n",
              "      <th>recruitment_channel</th>\n",
              "      <th>no_of_trainings</th>\n",
              "      <th>age</th>\n",
              "      <th>previous_year_rating</th>\n",
              "      <th>length_of_service</th>\n",
              "      <th>KPIs_met &gt;80%</th>\n",
              "      <th>awards_won?</th>\n",
              "      <th>avg_training_score</th>\n",
              "      <th>is_promoted</th>\n",
              "    </tr>\n",
              "  </thead>\n",
              "  <tbody>\n",
              "    <tr>\n",
              "      <th>0</th>\n",
              "      <td>65438</td>\n",
              "      <td>Sales &amp; Marketing</td>\n",
              "      <td>region_7</td>\n",
              "      <td>Master's &amp; above</td>\n",
              "      <td>f</td>\n",
              "      <td>sourcing</td>\n",
              "      <td>1</td>\n",
              "      <td>35</td>\n",
              "      <td>5.0</td>\n",
              "      <td>8</td>\n",
              "      <td>1</td>\n",
              "      <td>0</td>\n",
              "      <td>49</td>\n",
              "      <td>0</td>\n",
              "    </tr>\n",
              "    <tr>\n",
              "      <th>1</th>\n",
              "      <td>65141</td>\n",
              "      <td>Operations</td>\n",
              "      <td>region_22</td>\n",
              "      <td>Bachelor's</td>\n",
              "      <td>m</td>\n",
              "      <td>other</td>\n",
              "      <td>1</td>\n",
              "      <td>30</td>\n",
              "      <td>5.0</td>\n",
              "      <td>4</td>\n",
              "      <td>0</td>\n",
              "      <td>0</td>\n",
              "      <td>60</td>\n",
              "      <td>0</td>\n",
              "    </tr>\n",
              "    <tr>\n",
              "      <th>2</th>\n",
              "      <td>7513</td>\n",
              "      <td>Sales &amp; Marketing</td>\n",
              "      <td>region_19</td>\n",
              "      <td>Bachelor's</td>\n",
              "      <td>m</td>\n",
              "      <td>sourcing</td>\n",
              "      <td>1</td>\n",
              "      <td>34</td>\n",
              "      <td>3.0</td>\n",
              "      <td>7</td>\n",
              "      <td>0</td>\n",
              "      <td>0</td>\n",
              "      <td>50</td>\n",
              "      <td>0</td>\n",
              "    </tr>\n",
              "    <tr>\n",
              "      <th>3</th>\n",
              "      <td>2542</td>\n",
              "      <td>Sales &amp; Marketing</td>\n",
              "      <td>region_23</td>\n",
              "      <td>Bachelor's</td>\n",
              "      <td>m</td>\n",
              "      <td>other</td>\n",
              "      <td>2</td>\n",
              "      <td>39</td>\n",
              "      <td>1.0</td>\n",
              "      <td>10</td>\n",
              "      <td>0</td>\n",
              "      <td>0</td>\n",
              "      <td>50</td>\n",
              "      <td>0</td>\n",
              "    </tr>\n",
              "    <tr>\n",
              "      <th>4</th>\n",
              "      <td>48945</td>\n",
              "      <td>Technology</td>\n",
              "      <td>region_26</td>\n",
              "      <td>Bachelor's</td>\n",
              "      <td>m</td>\n",
              "      <td>other</td>\n",
              "      <td>1</td>\n",
              "      <td>45</td>\n",
              "      <td>3.0</td>\n",
              "      <td>2</td>\n",
              "      <td>0</td>\n",
              "      <td>0</td>\n",
              "      <td>73</td>\n",
              "      <td>0</td>\n",
              "    </tr>\n",
              "  </tbody>\n",
              "</table>\n",
              "</div>\n",
              "      <button class=\"colab-df-convert\" onclick=\"convertToInteractive('df-5d130b76-aef5-4d35-b534-bb801998184c')\"\n",
              "              title=\"Convert this dataframe to an interactive table.\"\n",
              "              style=\"display:none;\">\n",
              "        \n",
              "  <svg xmlns=\"http://www.w3.org/2000/svg\" height=\"24px\"viewBox=\"0 0 24 24\"\n",
              "       width=\"24px\">\n",
              "    <path d=\"M0 0h24v24H0V0z\" fill=\"none\"/>\n",
              "    <path d=\"M18.56 5.44l.94 2.06.94-2.06 2.06-.94-2.06-.94-.94-2.06-.94 2.06-2.06.94zm-11 1L8.5 8.5l.94-2.06 2.06-.94-2.06-.94L8.5 2.5l-.94 2.06-2.06.94zm10 10l.94 2.06.94-2.06 2.06-.94-2.06-.94-.94-2.06-.94 2.06-2.06.94z\"/><path d=\"M17.41 7.96l-1.37-1.37c-.4-.4-.92-.59-1.43-.59-.52 0-1.04.2-1.43.59L10.3 9.45l-7.72 7.72c-.78.78-.78 2.05 0 2.83L4 21.41c.39.39.9.59 1.41.59.51 0 1.02-.2 1.41-.59l7.78-7.78 2.81-2.81c.8-.78.8-2.07 0-2.86zM5.41 20L4 18.59l7.72-7.72 1.47 1.35L5.41 20z\"/>\n",
              "  </svg>\n",
              "      </button>\n",
              "      \n",
              "  <style>\n",
              "    .colab-df-container {\n",
              "      display:flex;\n",
              "      flex-wrap:wrap;\n",
              "      gap: 12px;\n",
              "    }\n",
              "\n",
              "    .colab-df-convert {\n",
              "      background-color: #E8F0FE;\n",
              "      border: none;\n",
              "      border-radius: 50%;\n",
              "      cursor: pointer;\n",
              "      display: none;\n",
              "      fill: #1967D2;\n",
              "      height: 32px;\n",
              "      padding: 0 0 0 0;\n",
              "      width: 32px;\n",
              "    }\n",
              "\n",
              "    .colab-df-convert:hover {\n",
              "      background-color: #E2EBFA;\n",
              "      box-shadow: 0px 1px 2px rgba(60, 64, 67, 0.3), 0px 1px 3px 1px rgba(60, 64, 67, 0.15);\n",
              "      fill: #174EA6;\n",
              "    }\n",
              "\n",
              "    [theme=dark] .colab-df-convert {\n",
              "      background-color: #3B4455;\n",
              "      fill: #D2E3FC;\n",
              "    }\n",
              "\n",
              "    [theme=dark] .colab-df-convert:hover {\n",
              "      background-color: #434B5C;\n",
              "      box-shadow: 0px 1px 3px 1px rgba(0, 0, 0, 0.15);\n",
              "      filter: drop-shadow(0px 1px 2px rgba(0, 0, 0, 0.3));\n",
              "      fill: #FFFFFF;\n",
              "    }\n",
              "  </style>\n",
              "\n",
              "      <script>\n",
              "        const buttonEl =\n",
              "          document.querySelector('#df-5d130b76-aef5-4d35-b534-bb801998184c button.colab-df-convert');\n",
              "        buttonEl.style.display =\n",
              "          google.colab.kernel.accessAllowed ? 'block' : 'none';\n",
              "\n",
              "        async function convertToInteractive(key) {\n",
              "          const element = document.querySelector('#df-5d130b76-aef5-4d35-b534-bb801998184c');\n",
              "          const dataTable =\n",
              "            await google.colab.kernel.invokeFunction('convertToInteractive',\n",
              "                                                     [key], {});\n",
              "          if (!dataTable) return;\n",
              "\n",
              "          const docLinkHtml = 'Like what you see? Visit the ' +\n",
              "            '<a target=\"_blank\" href=https://colab.research.google.com/notebooks/data_table.ipynb>data table notebook</a>'\n",
              "            + ' to learn more about interactive tables.';\n",
              "          element.innerHTML = '';\n",
              "          dataTable['output_type'] = 'display_data';\n",
              "          await google.colab.output.renderOutput(dataTable, element);\n",
              "          const docLink = document.createElement('div');\n",
              "          docLink.innerHTML = docLinkHtml;\n",
              "          element.appendChild(docLink);\n",
              "        }\n",
              "      </script>\n",
              "    </div>\n",
              "  </div>\n",
              "  "
            ]
          },
          "metadata": {},
          "execution_count": 1
        }
      ]
    },
    {
      "cell_type": "code",
      "source": [
        "#get the shape of the df\n",
        "hr_employee_df.shape"
      ],
      "metadata": {
        "colab": {
          "base_uri": "https://localhost:8080/"
        },
        "id": "YkIHcF_RlI4j",
        "outputId": "4aefafc0-2faf-418d-afcf-bb264256905e"
      },
      "execution_count": 2,
      "outputs": [
        {
          "output_type": "execute_result",
          "data": {
            "text/plain": [
              "(54808, 14)"
            ]
          },
          "metadata": {},
          "execution_count": 2
        }
      ]
    },
    {
      "cell_type": "code",
      "source": [
        "#get the column name & data types\n",
        "hr_employee_df.info()"
      ],
      "metadata": {
        "colab": {
          "base_uri": "https://localhost:8080/"
        },
        "id": "9Wo7K5JCldQT",
        "outputId": "cf97979b-906a-40fb-c040-d2325456868b"
      },
      "execution_count": 3,
      "outputs": [
        {
          "output_type": "stream",
          "name": "stdout",
          "text": [
            "<class 'pandas.core.frame.DataFrame'>\n",
            "RangeIndex: 54808 entries, 0 to 54807\n",
            "Data columns (total 14 columns):\n",
            " #   Column                Non-Null Count  Dtype  \n",
            "---  ------                --------------  -----  \n",
            " 0   employee_id           54808 non-null  int64  \n",
            " 1   department            54808 non-null  object \n",
            " 2   region                54808 non-null  object \n",
            " 3   education             52399 non-null  object \n",
            " 4   gender                54808 non-null  object \n",
            " 5   recruitment_channel   54808 non-null  object \n",
            " 6   no_of_trainings       54808 non-null  int64  \n",
            " 7   age                   54808 non-null  int64  \n",
            " 8   previous_year_rating  50684 non-null  float64\n",
            " 9   length_of_service     54808 non-null  int64  \n",
            " 10  KPIs_met >80%         54808 non-null  int64  \n",
            " 11  awards_won?           54808 non-null  int64  \n",
            " 12  avg_training_score    54808 non-null  int64  \n",
            " 13  is_promoted           54808 non-null  int64  \n",
            "dtypes: float64(1), int64(8), object(5)\n",
            "memory usage: 5.9+ MB\n"
          ]
        }
      ]
    },
    {
      "cell_type": "markdown",
      "source": [
        "#2. Data Preparation"
      ],
      "metadata": {
        "id": "_vLSJMWWmfsD"
      }
    },
    {
      "cell_type": "code",
      "source": [
        "# Standardize a dataset by stripping leading and trailing spaces\n",
        "hr_employee_df.columns = hr_employee_df.columns.str.strip()"
      ],
      "metadata": {
        "id": "REQBycKrmzAo"
      },
      "execution_count": 4,
      "outputs": []
    },
    {
      "cell_type": "code",
      "source": [
        "# check for missing data in a dataset.\n",
        "hr_employee_df.isna().sum()"
      ],
      "metadata": {
        "id": "HkFnWMaHoQ7N",
        "colab": {
          "base_uri": "https://localhost:8080/"
        },
        "outputId": "4953f78f-b1c0-4d37-dfaf-d8ad1aa5dd6c"
      },
      "execution_count": 5,
      "outputs": [
        {
          "output_type": "execute_result",
          "data": {
            "text/plain": [
              "employee_id                0\n",
              "department                 0\n",
              "region                     0\n",
              "education               2409\n",
              "gender                     0\n",
              "recruitment_channel        0\n",
              "no_of_trainings            0\n",
              "age                        0\n",
              "previous_year_rating    4124\n",
              "length_of_service          0\n",
              "KPIs_met >80%              0\n",
              "awards_won?                0\n",
              "avg_training_score         0\n",
              "is_promoted                0\n",
              "dtype: int64"
            ]
          },
          "metadata": {},
          "execution_count": 5
        }
      ]
    },
    {
      "cell_type": "code",
      "source": [
        "# replace missing data previous_year_rating column with the mean\n",
        "mean_value = hr_employee_df['previous_year_rating'].mean()\n",
        "hr_employee_df['previous_year_rating'].fillna(value=mean_value, inplace=True)\n",
        "\n",
        "# replace missing education value with no education\n",
        "hr_employee_df['education'].fillna(value=\"No Education\", inplace=True)\n",
        "\n",
        "#check for missing records to confirm replacement\n",
        "hr_employee_df.isna().sum()\n"
      ],
      "metadata": {
        "id": "JFeHtCAdoVMr",
        "colab": {
          "base_uri": "https://localhost:8080/"
        },
        "outputId": "99a0fce5-7ce2-48cf-be64-4e3a185d3f57"
      },
      "execution_count": 6,
      "outputs": [
        {
          "output_type": "execute_result",
          "data": {
            "text/plain": [
              "employee_id             0\n",
              "department              0\n",
              "region                  0\n",
              "education               0\n",
              "gender                  0\n",
              "recruitment_channel     0\n",
              "no_of_trainings         0\n",
              "age                     0\n",
              "previous_year_rating    0\n",
              "length_of_service       0\n",
              "KPIs_met >80%           0\n",
              "awards_won?             0\n",
              "avg_training_score      0\n",
              "is_promoted             0\n",
              "dtype: int64"
            ]
          },
          "metadata": {},
          "execution_count": 6
        }
      ]
    },
    {
      "cell_type": "code",
      "source": [
        "#perform data type conversion to fix previous year rating to int\n",
        "hr_employee_df['previous_year_rating'] = hr_employee_df['previous_year_rating'].astype(np.int64)\n",
        "\n",
        "#confirm if conversion was successful\n",
        "hr_employee_df.info()"
      ],
      "metadata": {
        "colab": {
          "base_uri": "https://localhost:8080/"
        },
        "id": "OoaJ9FJFtD5s",
        "outputId": "e16872c0-3ac4-40a2-8df0-aecceba899d7"
      },
      "execution_count": 7,
      "outputs": [
        {
          "output_type": "stream",
          "name": "stdout",
          "text": [
            "<class 'pandas.core.frame.DataFrame'>\n",
            "RangeIndex: 54808 entries, 0 to 54807\n",
            "Data columns (total 14 columns):\n",
            " #   Column                Non-Null Count  Dtype \n",
            "---  ------                --------------  ----- \n",
            " 0   employee_id           54808 non-null  int64 \n",
            " 1   department            54808 non-null  object\n",
            " 2   region                54808 non-null  object\n",
            " 3   education             54808 non-null  object\n",
            " 4   gender                54808 non-null  object\n",
            " 5   recruitment_channel   54808 non-null  object\n",
            " 6   no_of_trainings       54808 non-null  int64 \n",
            " 7   age                   54808 non-null  int64 \n",
            " 8   previous_year_rating  54808 non-null  int64 \n",
            " 9   length_of_service     54808 non-null  int64 \n",
            " 10  KPIs_met >80%         54808 non-null  int64 \n",
            " 11  awards_won?           54808 non-null  int64 \n",
            " 12  avg_training_score    54808 non-null  int64 \n",
            " 13  is_promoted           54808 non-null  int64 \n",
            "dtypes: int64(9), object(5)\n",
            "memory usage: 5.9+ MB\n"
          ]
        }
      ]
    },
    {
      "cell_type": "code",
      "source": [
        "# I can find and remove any duplicate records from a dataset.\n",
        "hr_employee_df.duplicated().sum()"
      ],
      "metadata": {
        "id": "QzdnroQooZiD",
        "colab": {
          "base_uri": "https://localhost:8080/"
        },
        "outputId": "5ad3e47e-35ec-491a-9d62-fe3381b17ab3"
      },
      "execution_count": 8,
      "outputs": [
        {
          "output_type": "execute_result",
          "data": {
            "text/plain": [
              "0"
            ]
          },
          "metadata": {},
          "execution_count": 8
        }
      ]
    },
    {
      "cell_type": "markdown",
      "source": [
        "#3 Data Modelling\n"
      ],
      "metadata": {
        "id": "aufmuJq8tmqV"
      }
    },
    {
      "cell_type": "code",
      "source": [
        "#define features and target\n",
        "\n",
        "#import the necessary functions from sklearn\n",
        "from sklearn.tree import DecisionTreeClassifier\n",
        "\n",
        "features = hr_employee_df.drop(['education', 'recruitment_channel', 'is_promoted', 'department','region','gender'], axis=1)\n",
        "target = hr_employee_df['is_promoted']\n",
        "\n",
        "model = DecisionTreeClassifier()\n",
        "model.fit(features, target)\n",
        "\n",
        "testing_df = hr_employee_df[:20]\n",
        "\n",
        "test_features = testing_df.drop(['education', 'recruitment_channel', 'is_promoted','department','region','gender'], axis=1)\n",
        "test_target = testing_df['is_promoted']\n",
        "model = DecisionTreeClassifier()\n",
        "\n",
        "model.fit(test_features, test_target)\n",
        "test_predictions = model.predict(test_features)\n",
        "\n",
        "print('Predictions:', test_predictions)\n",
        "print('Correct answers:', test_target.values)\n"
      ],
      "metadata": {
        "colab": {
          "base_uri": "https://localhost:8080/"
        },
        "id": "33AQlx3Otw5f",
        "outputId": "a1430476-da8a-4d33-efa5-be28d051b57d"
      },
      "execution_count": 11,
      "outputs": [
        {
          "output_type": "stream",
          "name": "stdout",
          "text": [
            "Predictions: [0 0 0 0 0 0 0 0 0 0 0 1 0 0 0 0 0 0 0 0]\n",
            "Correct answers: [0 0 0 0 0 0 0 0 0 0 0 1 0 0 0 0 0 0 0 0]\n"
          ]
        }
      ]
    },
    {
      "cell_type": "code",
      "source": [
        "testing_df.shape"
      ],
      "metadata": {
        "colab": {
          "base_uri": "https://localhost:8080/"
        },
        "id": "9yMdAy32yy8M",
        "outputId": "a2548cd0-b333-42d5-d400-4e3be850c044"
      },
      "execution_count": 12,
      "outputs": [
        {
          "output_type": "execute_result",
          "data": {
            "text/plain": [
              "(20, 14)"
            ]
          },
          "metadata": {},
          "execution_count": 12
        }
      ]
    },
    {
      "cell_type": "markdown",
      "source": [
        "#4 Conclusion\n",
        "\n",
        "After the evaluation process, it can be prediced that potential promotee at a checkpoint will be promoted based on model testing."
      ],
      "metadata": {
        "id": "QoXOZEcASmZr"
      }
    }
  ]
}